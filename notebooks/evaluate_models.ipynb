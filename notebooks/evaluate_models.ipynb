{
 "cells": [
  {
   "cell_type": "markdown",
   "id": "1b38228b",
   "metadata": {},
   "source": [
    "Загрузим тестовые данные"
   ]
  },
  {
   "cell_type": "code",
   "execution_count": 127,
   "id": "34d9d94a",
   "metadata": {},
   "outputs": [],
   "source": [
    "import os\n",
    "from tqdm import tqdm\n",
    "import torch\n",
    "\n",
    "from src.models.pl_datamodule import MyDataModule\n",
    "from src.models.bert_models import TransformersTextClassifier"
   ]
  },
  {
   "cell_type": "code",
   "execution_count": 23,
   "id": "590ce0b5",
   "metadata": {},
   "outputs": [],
   "source": [
    "import warnings\n",
    "from transformers import logging\n",
    "\n",
    "\n",
    "warnings.filterwarnings('ignore')\n",
    "logging.set_verbosity_error()"
   ]
  },
  {
   "cell_type": "markdown",
   "id": "540efced",
   "metadata": {},
   "source": [
    "Для оценки выберем следующие модели-трансформеры из библиотеки huggingface.\n",
    "* [distilbert-base-uncased](https://huggingface.co/distilbert-base-uncased)\n",
    "* [\"smallbenchnlp/bert-small\"](\"smallbenchnlp/bert-small\")\n",
    "* [prajjwal1/bert-mini](https://huggingface.co/prajjwal1/bert-mini)\n",
    "* [prajjwal1/bert-tiny](https://huggingface.co/prajjwal1/bert-tiny)\n",
    "\n",
    "Вызовем тестовые данные для проверки, которые наша модель не видела при обучении"
   ]
  },
  {
   "cell_type": "code",
   "execution_count": 3,
   "id": "33467e5a",
   "metadata": {},
   "outputs": [],
   "source": [
    "os.chdir('..')"
   ]
  },
  {
   "cell_type": "markdown",
   "id": "e406c644",
   "metadata": {},
   "source": [
    "Имена и расположение наших переменных"
   ]
  },
  {
   "cell_type": "code",
   "execution_count": 172,
   "id": "66d93d83",
   "metadata": {},
   "outputs": [],
   "source": [
    "data_path = 'data/processed/processed_df.csv'\n",
    "model_names  = ['distilbert-base-uncased',  \"smallbenchnlp/bert-small\",\n",
    "         'prajjwal1/bert-mini', 'prajjwal1/bert-tiny']\n",
    "\n",
    "model_paths = [\"models\\distil_bert\\distilbert-base-uncased.ckpt\", \n",
    "              r\"models\\smallbenchnlp\\bert-small_1e-05_16\\smallbenchnlp\\bert-small.ckpt\",\n",
    "               r'models\\bert-mini_1e-05_32\\prajjwal1\\bert-mini.ckpt',\n",
    "                r'models\\bert-tiny_1e-05_32\\prajjwal1\\bert-tiny.ckpt']\n",
    "batch_sizes = [8, 16, 32, 64]"
   ]
  },
  {
   "cell_type": "code",
   "execution_count": 106,
   "id": "6a226b09",
   "metadata": {},
   "outputs": [
    {
     "data": {
      "text/plain": [
       "1205"
      ]
     },
     "execution_count": 106,
     "metadata": {},
     "output_type": "execute_result"
    }
   ],
   "source": [
    "len(dm.test_dataloader())"
   ]
  },
  {
   "cell_type": "code",
   "execution_count": 160,
   "id": "fe5a265c",
   "metadata": {
    "scrolled": true
   },
   "outputs": [],
   "source": [
    "def test_prediction_and_labels(model_name,  model_path, batch_size):\n",
    "    dm = MyDataModule(data_path, model_name, batch_size)\n",
    "    dm.prepare_data()\n",
    "    dm.setup('test')\n",
    "    trained_model = TransformersTextClassifier(model_name)\n",
    "    checkpoint = torch.load(model_path)\n",
    "    trained_model.load_state_dict(checkpoint['state_dict'])\n",
    "    trained_model.eval()\n",
    "    trained_model.freeze()\n",
    "    device = torch.device('cuda' if torch.cuda.is_available() else 'cpu')\n",
    "    trained_model = trained_model.to(device)\n",
    "    flag = False\n",
    "\n",
    "    labels = []\n",
    "    for item in tqdm(dm.test_dataloader()):\n",
    "        _, prediction = trained_model(\n",
    "        item[\"input_ids\"].to(device),\n",
    "        item[\"attention_mask\"].to(device)\n",
    "      )\n",
    "        prediction = torch.sigmoid(prediction)\n",
    "        if not flag:\n",
    "            predictions = prediction\n",
    "            labels = item[\"labels\"].int()\n",
    "            flag = True\n",
    "        else:\n",
    "            predictions = torch.vstack((predictions, prediction))\n",
    "            labels = torch.vstack((labels, item[\"labels\"].int()))\n",
    "\n",
    "    predictions = predictions.detach().cpu()\n",
    "    labels = labels.detach().cpu()\n",
    "    return predictions, labels"
   ]
  },
  {
   "cell_type": "code",
   "execution_count": 148,
   "id": "e70b9d50",
   "metadata": {},
   "outputs": [],
   "source": [
    "from torchmetrics import Accuracy\n",
    "from torchmetrics.classification import MultilabelAUROC\n",
    "from sklearn.metrics import classification_report\n",
    "import numpy as np"
   ]
  },
  {
   "cell_type": "code",
   "execution_count": 140,
   "id": "065dd3bb",
   "metadata": {},
   "outputs": [],
   "source": [
    "def accuracy_score(predictions, labels):\n",
    "    accuracy = Accuracy(task=\"multilabel\", num_labels=20)\n",
    "    score = accuracy(predictions, labels)\n",
    "    return score"
   ]
  },
  {
   "cell_type": "code",
   "execution_count": 141,
   "id": "c343ce22",
   "metadata": {},
   "outputs": [],
   "source": [
    "def multilabel_auroc(predictions, labels):\n",
    "    ml_auroc = MultilabelAUROC(num_labels=20, average=\"macro\", thresholds=None)\n",
    "    score = ml_auroc(predictions, labels)\n",
    "    return score"
   ]
  },
  {
   "cell_type": "code",
   "execution_count": 142,
   "id": "32358bfa",
   "metadata": {},
   "outputs": [],
   "source": [
    "def multilabel_auroc(predictions, labels):\n",
    "    ml_auroc = MultilabelAUROC(num_labels=20, average=\"macro\", thresholds=None)\n",
    "    score = ml_auroc(predictions, labels)\n",
    "    return score"
   ]
  },
  {
   "cell_type": "code",
   "execution_count": 149,
   "id": "30029f37",
   "metadata": {},
   "outputs": [],
   "source": [
    "def mulilabel_classification_report(predictions, labels):\n",
    "    y_pred = predictions.numpy()\n",
    "    y_true = labels.numpy()\n",
    "    upper, lower = 1, 0\n",
    "    y_pred = np.where(y_pred > 0.5, upper, lower)\n",
    "    print(classification_report(\n",
    "      y_true,\n",
    "      y_pred,\n",
    "      target_names=label_namre,\n",
    "      zero_division=0\n",
    "    ))"
   ]
  },
  {
   "cell_type": "markdown",
   "id": "a8c8114d",
   "metadata": {},
   "source": [
    "## 1. Distilbert_base_uncased"
   ]
  },
  {
   "cell_type": "code",
   "execution_count": 138,
   "id": "6116bd54",
   "metadata": {},
   "outputs": [
    {
     "name": "stdout",
     "output_type": "stream",
     "text": [
      "(64388, 21) processed_df.shape\n"
     ]
    },
    {
     "name": "stderr",
     "output_type": "stream",
     "text": [
      "100%|██████████████████████████████████████████████████████████████████████████████| 1205/1205 [04:09<00:00,  4.83it/s]\n"
     ]
    }
   ],
   "source": [
    "predictions, labels = test_prediction_and_labels(model_names[0], model_paths[0], batch_size[0])"
   ]
  },
  {
   "cell_type": "code",
   "execution_count": 143,
   "id": "0b94e7bb",
   "metadata": {},
   "outputs": [
    {
     "data": {
      "text/plain": [
       "tensor(0.9717)"
      ]
     },
     "execution_count": 143,
     "metadata": {},
     "output_type": "execute_result"
    }
   ],
   "source": [
    "accuracy_score(predictions, labels)"
   ]
  },
  {
   "cell_type": "code",
   "execution_count": 144,
   "id": "0b931426",
   "metadata": {},
   "outputs": [
    {
     "data": {
      "text/plain": [
       "tensor(0.9629)"
      ]
     },
     "execution_count": 144,
     "metadata": {},
     "output_type": "execute_result"
    }
   ],
   "source": [
    "multilabel_auroc(predictions, labels)"
   ]
  },
  {
   "cell_type": "code",
   "execution_count": 151,
   "id": "06cc6949",
   "metadata": {},
   "outputs": [
    {
     "name": "stdout",
     "output_type": "stream",
     "text": [
      "                                        precision    recall  f1-score   support\n",
      "\n",
      "                   encodded_label_CASB       0.88      0.80      0.84       522\n",
      "                    encodded_label_EDR       0.93      0.69      0.80       667\n",
      "                    encodded_label_MDR       0.96      0.80      0.87       522\n",
      "                    encodded_label_NDR       0.96      0.85      0.90       209\n",
      "                   encodded_label_NGFW       0.78      0.80      0.79       243\n",
      "                   encodded_label_SASE       0.89      0.81      0.85       522\n",
      "                   encodded_label_SIEM       0.88      0.64      0.74       522\n",
      "                   encodded_label_SOAR       0.96      0.75      0.84       367\n",
      "       encodded_label_anti-counterfeit       0.82      0.86      0.84       522\n",
      "    encodded_label_application_control       0.80      0.89      0.84       522\n",
      "           encodded_label_atm_security       0.85      0.84      0.85       522\n",
      "               encodded_label_honeypot       0.88      0.81      0.84       522\n",
      "encodded_label_industrial_iot_security       0.89      0.70      0.79       522\n",
      "         encodded_label_malware_detect       0.88      0.90      0.89      3520\n",
      "       encodded_label_parental_control       0.97      0.25      0.40       522\n",
      "      encodded_label_ransomware_detect       0.93      0.90      0.91      3114\n",
      "                encodded_label_sandbox       0.98      0.10      0.18       522\n",
      "         encodded_label_spyware_detect       0.87      0.89      0.88      1352\n",
      "           encodded_label_system_tweak       1.00      0.00      0.01       480\n",
      "      encodded_label_unwanted_programs       0.80      0.89      0.84      1447\n",
      "\n",
      "                             micro avg       0.88      0.79      0.83     17141\n",
      "                             macro avg       0.90      0.71      0.75     17141\n",
      "                          weighted avg       0.89      0.79      0.81     17141\n",
      "                           samples avg       0.80      0.76      0.77     17141\n",
      "\n"
     ]
    }
   ],
   "source": [
    "mulilabel_classification_report(predictions, labels)"
   ]
  },
  {
   "cell_type": "markdown",
   "id": "34b5135f",
   "metadata": {},
   "source": [
    "## 2. Smallbenchnlp/bert-small"
   ]
  },
  {
   "cell_type": "code",
   "execution_count": 161,
   "id": "2b8223ef",
   "metadata": {},
   "outputs": [
    {
     "name": "stdout",
     "output_type": "stream",
     "text": [
      "(64388, 21) processed_df.shape\n"
     ]
    },
    {
     "name": "stderr",
     "output_type": "stream",
     "text": [
      "100%|████████████████████████████████████████████████████████████████████████████████| 603/603 [01:07<00:00,  8.91it/s]\n"
     ]
    }
   ],
   "source": [
    "predictions, labels = test_prediction_and_labels(model_names[1], model_paths[1], batch_size[1])"
   ]
  },
  {
   "cell_type": "code",
   "execution_count": 162,
   "id": "0f71d6fd",
   "metadata": {},
   "outputs": [
    {
     "data": {
      "text/plain": [
       "tensor(0.9434)"
      ]
     },
     "execution_count": 162,
     "metadata": {},
     "output_type": "execute_result"
    }
   ],
   "source": [
    "accuracy_score(predictions, labels)"
   ]
  },
  {
   "cell_type": "code",
   "execution_count": 163,
   "id": "69fc9f9d",
   "metadata": {},
   "outputs": [
    {
     "data": {
      "text/plain": [
       "tensor(0.8396)"
      ]
     },
     "execution_count": 163,
     "metadata": {},
     "output_type": "execute_result"
    }
   ],
   "source": [
    "multilabel_auroc(predictions, labels)"
   ]
  },
  {
   "cell_type": "code",
   "execution_count": 164,
   "id": "ca796322",
   "metadata": {},
   "outputs": [
    {
     "name": "stdout",
     "output_type": "stream",
     "text": [
      "                                        precision    recall  f1-score   support\n",
      "\n",
      "                   encodded_label_CASB       0.00      0.00      0.00       522\n",
      "                    encodded_label_EDR       0.00      0.00      0.00       667\n",
      "                    encodded_label_MDR       0.00      0.00      0.00       522\n",
      "                    encodded_label_NDR       0.00      0.00      0.00       209\n",
      "                   encodded_label_NGFW       0.00      0.00      0.00       243\n",
      "                   encodded_label_SASE       1.00      0.06      0.12       522\n",
      "                   encodded_label_SIEM       0.00      0.00      0.00       522\n",
      "                   encodded_label_SOAR       0.00      0.00      0.00       367\n",
      "       encodded_label_anti-counterfeit       1.00      0.26      0.42       522\n",
      "    encodded_label_application_control       0.96      0.50      0.66       522\n",
      "           encodded_label_atm_security       0.00      0.00      0.00       522\n",
      "               encodded_label_honeypot       0.00      0.00      0.00       522\n",
      "encodded_label_industrial_iot_security       0.00      0.00      0.00       522\n",
      "         encodded_label_malware_detect       0.78      0.81      0.80      3520\n",
      "       encodded_label_parental_control       0.00      0.00      0.00       522\n",
      "      encodded_label_ransomware_detect       0.85      0.85      0.85      3114\n",
      "                encodded_label_sandbox       0.00      0.00      0.00       522\n",
      "         encodded_label_spyware_detect       0.80      0.79      0.79      1352\n",
      "           encodded_label_system_tweak       0.00      0.00      0.00       480\n",
      "      encodded_label_unwanted_programs       0.77      0.78      0.78      1447\n",
      "\n",
      "                             micro avg       0.81      0.47      0.60     17141\n",
      "                             macro avg       0.31      0.20      0.22     17141\n",
      "                          weighted avg       0.53      0.47      0.48     17141\n",
      "                           samples avg       0.44      0.39      0.40     17141\n",
      "\n"
     ]
    }
   ],
   "source": [
    "mulilabel_classification_report(predictions, labels)"
   ]
  },
  {
   "cell_type": "markdown",
   "id": "d5bec530",
   "metadata": {},
   "source": [
    "## 3. prajjwal1/bert-mini"
   ]
  },
  {
   "cell_type": "code",
   "execution_count": 167,
   "id": "5be42d71",
   "metadata": {},
   "outputs": [
    {
     "name": "stdout",
     "output_type": "stream",
     "text": [
      "(64388, 21) processed_df.shape\n"
     ]
    },
    {
     "name": "stderr",
     "output_type": "stream",
     "text": [
      "100%|████████████████████████████████████████████████████████████████████████████████| 302/302 [00:28<00:00, 10.70it/s]\n"
     ]
    }
   ],
   "source": [
    "predictions, labels = test_prediction_and_labels(model_names[2], model_paths[2], batch_size[2])"
   ]
  },
  {
   "cell_type": "code",
   "execution_count": 168,
   "id": "e97e5f53",
   "metadata": {},
   "outputs": [
    {
     "data": {
      "text/plain": [
       "tensor(0.9555)"
      ]
     },
     "execution_count": 168,
     "metadata": {},
     "output_type": "execute_result"
    }
   ],
   "source": [
    "accuracy_score(predictions, labels)"
   ]
  },
  {
   "cell_type": "code",
   "execution_count": 169,
   "id": "7b06b1e8",
   "metadata": {},
   "outputs": [
    {
     "data": {
      "text/plain": [
       "tensor(0.9160)"
      ]
     },
     "execution_count": 169,
     "metadata": {},
     "output_type": "execute_result"
    }
   ],
   "source": [
    "multilabel_auroc(predictions, labels)"
   ]
  },
  {
   "cell_type": "code",
   "execution_count": 170,
   "id": "026a8f25",
   "metadata": {},
   "outputs": [
    {
     "name": "stdout",
     "output_type": "stream",
     "text": [
      "                                        precision    recall  f1-score   support\n",
      "\n",
      "                   encodded_label_CASB       0.95      0.67      0.78       522\n",
      "                    encodded_label_EDR       0.82      0.35      0.49       667\n",
      "                    encodded_label_MDR       0.95      0.68      0.79       522\n",
      "                    encodded_label_NDR       0.97      0.55      0.70       209\n",
      "                   encodded_label_NGFW       0.88      0.36      0.51       243\n",
      "                   encodded_label_SASE       0.85      0.70      0.77       522\n",
      "                   encodded_label_SIEM       0.93      0.35      0.51       522\n",
      "                   encodded_label_SOAR       0.93      0.58      0.72       367\n",
      "       encodded_label_anti-counterfeit       0.91      0.72      0.80       522\n",
      "    encodded_label_application_control       0.85      0.67      0.75       522\n",
      "           encodded_label_atm_security       0.81      0.69      0.74       522\n",
      "               encodded_label_honeypot       0.97      0.59      0.74       522\n",
      "encodded_label_industrial_iot_security       0.91      0.39      0.54       522\n",
      "         encodded_label_malware_detect       0.71      0.90      0.79      3520\n",
      "       encodded_label_parental_control       0.00      0.00      0.00       522\n",
      "      encodded_label_ransomware_detect       0.78      0.91      0.84      3114\n",
      "                encodded_label_sandbox       0.00      0.00      0.00       522\n",
      "         encodded_label_spyware_detect       0.79      0.80      0.80      1352\n",
      "           encodded_label_system_tweak       0.00      0.00      0.00       480\n",
      "      encodded_label_unwanted_programs       0.77      0.79      0.78      1447\n",
      "\n",
      "                             micro avg       0.79      0.68      0.73     17141\n",
      "                             macro avg       0.74      0.53      0.60     17141\n",
      "                          weighted avg       0.74      0.68      0.69     17141\n",
      "                           samples avg       0.70      0.65      0.66     17141\n",
      "\n"
     ]
    }
   ],
   "source": [
    "mulilabel_classification_report(predictions, labels)"
   ]
  },
  {
   "cell_type": "markdown",
   "id": "32960d6f",
   "metadata": {},
   "source": [
    "## 4. prajjwal1/bert-mini"
   ]
  },
  {
   "cell_type": "code",
   "execution_count": 173,
   "id": "6bc10934",
   "metadata": {},
   "outputs": [
    {
     "name": "stdout",
     "output_type": "stream",
     "text": [
      "(64388, 21) processed_df.shape\n"
     ]
    },
    {
     "name": "stderr",
     "output_type": "stream",
     "text": [
      "100%|████████████████████████████████████████████████████████████████████████████████| 151/151 [00:27<00:00,  5.41it/s]\n"
     ]
    }
   ],
   "source": [
    "predictions, labels = test_prediction_and_labels(model_names[3], model_paths[3], batch_size[3])"
   ]
  },
  {
   "cell_type": "code",
   "execution_count": 174,
   "id": "391f3116",
   "metadata": {},
   "outputs": [
    {
     "data": {
      "text/plain": [
       "tensor(0.9383)"
      ]
     },
     "execution_count": 174,
     "metadata": {},
     "output_type": "execute_result"
    }
   ],
   "source": [
    "accuracy_score(predictions, labels)"
   ]
  },
  {
   "cell_type": "code",
   "execution_count": 175,
   "id": "fc0ba83f",
   "metadata": {},
   "outputs": [
    {
     "data": {
      "text/plain": [
       "tensor(0.8529)"
      ]
     },
     "execution_count": 175,
     "metadata": {},
     "output_type": "execute_result"
    }
   ],
   "source": [
    "multilabel_auroc(predictions, labels)"
   ]
  },
  {
   "cell_type": "code",
   "execution_count": 176,
   "id": "6be250f3",
   "metadata": {},
   "outputs": [
    {
     "name": "stdout",
     "output_type": "stream",
     "text": [
      "                                        precision    recall  f1-score   support\n",
      "\n",
      "                   encodded_label_CASB       0.00      0.00      0.00       522\n",
      "                    encodded_label_EDR       0.00      0.00      0.00       667\n",
      "                    encodded_label_MDR       0.00      0.00      0.00       522\n",
      "                    encodded_label_NDR       0.00      0.00      0.00       209\n",
      "                   encodded_label_NGFW       0.00      0.00      0.00       243\n",
      "                   encodded_label_SASE       1.00      0.00      0.00       522\n",
      "                   encodded_label_SIEM       0.00      0.00      0.00       522\n",
      "                   encodded_label_SOAR       0.00      0.00      0.00       367\n",
      "       encodded_label_anti-counterfeit       1.00      0.28      0.44       522\n",
      "    encodded_label_application_control       1.00      0.52      0.68       522\n",
      "           encodded_label_atm_security       1.00      0.01      0.02       522\n",
      "               encodded_label_honeypot       0.00      0.00      0.00       522\n",
      "encodded_label_industrial_iot_security       1.00      0.00      0.01       522\n",
      "         encodded_label_malware_detect       0.72      0.83      0.77      3520\n",
      "       encodded_label_parental_control       0.00      0.00      0.00       522\n",
      "      encodded_label_ransomware_detect       0.76      0.86      0.80      3114\n",
      "                encodded_label_sandbox       0.00      0.00      0.00       522\n",
      "         encodded_label_spyware_detect       0.74      0.74      0.74      1352\n",
      "           encodded_label_system_tweak       0.00      0.00      0.00       480\n",
      "      encodded_label_unwanted_programs       0.69      0.74      0.71      1447\n",
      "\n",
      "                             micro avg       0.74      0.47      0.58     17141\n",
      "                             macro avg       0.40      0.20      0.21     17141\n",
      "                          weighted avg       0.55      0.47      0.46     17141\n",
      "                           samples avg       0.43      0.39      0.40     17141\n",
      "\n"
     ]
    }
   ],
   "source": [
    "mulilabel_classification_report(predictions, labels)"
   ]
  },
  {
   "cell_type": "markdown",
   "id": "35f60844",
   "metadata": {},
   "source": [
    "### На данном этапе исследования сложно выбрать модель для запуска в продакшн.\n",
    "\n",
    "Модель Distilbert_base_uncased показала наибольшую точность, удовлетворительные результаты на несбалансированных выборках, кроме того она обучалась на 5 эпохах, и на 5 эпохе наблюдалась тенденция к снижению значения функции потерь на валидационной и тренировочной выборке, так что при дальнейшем обучении, аугментации данных возможно еще улучшить ее результаты. Однако она максимальна затратна по производительности, возможно улучшение производительности инференса модели с помощью квантизации и др техник.\n",
    "\n",
    "\n",
    "Модель 3 так же показала неплохие результаты, и имеет смысл взять ее для дальнейших исследований.\n",
    "\n",
    "### Что еще можно сделать\n",
    "1. Не протестированы простейшие модели типа TF-IDF\n",
    "2. Не протестированы RNN модели\n",
    "3. Провести аугментацию данных на редких классах"
   ]
  }
 ],
 "metadata": {
  "kernelspec": {
   "display_name": "Python 3 (ipykernel)",
   "language": "python",
   "name": "python3"
  },
  "language_info": {
   "codemirror_mode": {
    "name": "ipython",
    "version": 3
   },
   "file_extension": ".py",
   "mimetype": "text/x-python",
   "name": "python",
   "nbconvert_exporter": "python",
   "pygments_lexer": "ipython3",
   "version": "3.10.9"
  }
 },
 "nbformat": 4,
 "nbformat_minor": 5
}
